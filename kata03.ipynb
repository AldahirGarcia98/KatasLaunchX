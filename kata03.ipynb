{
 "cells": [
  {
   "cell_type": "markdown",
   "metadata": {},
   "source": [
    "# Ejercicio 01\n",
    "Para este ejercicio, escribirás una lógica condicional que imprima una advertencia si un asteroide se acerca a la Tierra demasiado rápido. La velocidad del asteroide varía dependiendo de lo cerca que esté del sol, y cualquier velocidad superior a 25 kilómetros por segundo (km/s) merece una advertencia."
   ]
  },
  {
   "cell_type": "code",
   "execution_count": null,
   "metadata": {},
   "outputs": [],
   "source": [
    "print(\"Verifica si un asteroride se acerca a la tierra\")\n",
    "a=input(\"Igresa la velocidad del asteoride\")\n",
    "\n",
    "if int (a) >= 25:\n",
    "    print(\"Advertencia este asteroide se acerca a una velocidad de: \" + a + \" Km/s\")\n",
    "else:\n",
    "    print(\"Fuera de peligro el asteroide viaja a una velocidad de: \" + a + \" Km/s\")\n",
    "\n"
   ]
  },
  {
   "cell_type": "markdown",
   "metadata": {},
   "source": [
    "# Ejercicio 02\n",
    "Si un asteroide entra en la atmósfera de la Tierra a una velocidad mayor o igual a 20 km/s, a veces produce un rayo de luz que se puede ver desde la Tierra. Escribe la lógica condicional que usa declaraciones if, else, y elif para alertar a las personas de todo el mundo que deben buscar un asteroide en el cielo. ¡Hay uno que se dirige a la tierra ahora a una velocidad de 19 km/s!"
   ]
  },
  {
   "cell_type": "code",
   "execution_count": null,
   "metadata": {},
   "outputs": [],
   "source": [
    "print(\"Prueba para ver si hoy pasara algo emocionante\")\n",
    "vel= input(\"Ingresa la velocida del asteroide:\")\n",
    "if int(vel) >= 20:\n",
    "    print(\"Mira al cielo, te puedes llevar una sopresa\")\n",
    "# elif int(vel)==20:\n",
    "#   print(\"Mira al cielo, te puedes llevar una sopresa\")\n",
    "else:\n",
    "    print(\"Nada que ver hoy \")"
   ]
  },
  {
   "cell_type": "markdown",
   "metadata": {},
   "source": [
    "# Ejercicio 03\n",
    "*Los asteroides de menos de 25 metros en su dimensión más grande probablemente se quemarán a medida que entren en la atmósfera de la Tierra.\n",
    "\n",
    "Si una pieza de un asteroide que es más grande que 25 metros pero más pequeña que 1000 metros golpeara la Tierra, causaría mucho daño.\n",
    "También discutimos en el ejercicio anterior que:\n",
    "\n",
    "La velocidad del asteroide varía en función de lo cerca que esté del sol, y cualquier velocidad superior a 25 kilómetros por segundo (km/s) merece una advertencia.\n",
    "Si un asteroide entra en la atmósfera de la Tierra a una velocidad mayor o igual a 20 km/s, a veces produce un rayo de luz que se puede ver desde la Tierra.\n",
    "\n",
    "Usando toda esta información, escribe un programa que emita la advertencia o información correcta a la gente de la Tierra, según la velocidad y el tamaño de un asteroide. Utiliza instrucciones if, else, y elif, así como los operadores and y or."
   ]
  },
  {
   "cell_type": "code",
   "execution_count": null,
   "metadata": {},
   "outputs": [],
   "source": [
    "print(\"Revisa si el asteroide es una amenzana\")\n",
    "vel=input(\"Ingresa la velocidad del asteroide\")\n",
    "dm=input(\"Ingresa el tamaño del asteroide\")\n",
    "\n",
    "if int (vel) >= 25 and int(dm) >= 25:\n",
    "    print(\"!Alerta, este asteroide representa una amenaza¡\")\n",
    "elif int(vel) >= 20:\n",
    "    print(\"Mira al cielo, te puedes llevar una sopresa\")\n",
    "elif int(dm) < 25:\n",
    "    print(\"Nada que ver hoy\")\n",
    "else:\n",
    "    print(\"Nada que ver hoy\")"
   ]
  }
 ],
 "metadata": {
  "interpreter": {
   "hash": "135d30d1bd72f3a6a424484cacefb3d29a23c8ed9cadb4df83daa3e8f46528ac"
  },
  "kernelspec": {
   "display_name": "Python 3.9.7 ('base')",
   "language": "python",
   "name": "python3"
  },
  "language_info": {
   "codemirror_mode": {
    "name": "ipython",
    "version": 3
   },
   "file_extension": ".py",
   "mimetype": "text/x-python",
   "name": "python",
   "nbconvert_exporter": "python",
   "pygments_lexer": "ipython3",
   "version": "3.9.7"
  },
  "orig_nbformat": 4
 },
 "nbformat": 4,
 "nbformat_minor": 2
}
